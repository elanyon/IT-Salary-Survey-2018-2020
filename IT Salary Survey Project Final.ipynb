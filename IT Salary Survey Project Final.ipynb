{
 "cells": [
  {
   "cell_type": "code",
   "execution_count": 4,
   "id": "17f1a0e8",
   "metadata": {},
   "outputs": [
    {
     "ename": "SyntaxError",
     "evalue": "EOF while scanning triple-quoted string literal (2333051915.py, line 30)",
     "output_type": "error",
     "traceback": [
      "\u001b[1;36m  File \u001b[1;32m\"C:\\Users\\elsie\\AppData\\Local\\Temp\\ipykernel_4040\\2333051915.py\"\u001b[1;36m, line \u001b[1;32m30\u001b[0m\n\u001b[1;33m    data['Sex'].unique()\u001b[0m\n\u001b[1;37m                        \n^\u001b[0m\n\u001b[1;31mSyntaxError\u001b[0m\u001b[1;31m:\u001b[0m EOF while scanning triple-quoted string literal\n"
     ]
    }
   ],
   "source": [
    "#Load the required libraries\n",
    "import pandas as pd\n",
    "import numpy as np\n",
    "import seaborn as sns\n",
    "#import os\n",
    "#os.getcwd()\n",
    "\n",
    "data = pd.read_csv('C://Users//elsie//AppData//Local//Temp//IT Salary Survey EU  2018-2020.csv',encoding = \"Latin-1\")\n",
    "\n",
    "'''data = open(os.path.abspath(r'C:\\Users\\elsie\\IT Salary Survey EU  2018-2020.csv'))\n",
    "\n",
    "#View the data\n",
    "data.head()\n",
    "\n",
    "#Basic information\n",
    "data.info()\n",
    "\n",
    "#Describe the data\n",
    "data.describe()\n",
    "\n",
    "#Find the duplicates\n",
    "data.duplicated().sum()\n",
    "\n",
    "#unique values\n",
    "\n",
    "data['Pclass'].unique()\n",
    "\n",
    "data['Survived'].unique()\n",
    "\n",
    "data['Sex'].unique()"
   ]
  },
  {
   "cell_type": "code",
   "execution_count": null,
   "id": "920263eb",
   "metadata": {},
   "outputs": [],
   "source": []
  }
 ],
 "metadata": {
  "kernelspec": {
   "display_name": "Python 3 (ipykernel)",
   "language": "python",
   "name": "python3"
  },
  "language_info": {
   "codemirror_mode": {
    "name": "ipython",
    "version": 3
   },
   "file_extension": ".py",
   "mimetype": "text/x-python",
   "name": "python",
   "nbconvert_exporter": "python",
   "pygments_lexer": "ipython3",
   "version": "3.9.13"
  }
 },
 "nbformat": 4,
 "nbformat_minor": 5
}
